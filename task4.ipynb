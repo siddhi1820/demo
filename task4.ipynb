{
  "nbformat": 4,
  "nbformat_minor": 0,
  "metadata": {
    "colab": {
      "name": "task4.ipynb",
      "provenance": [],
      "authorship_tag": "ABX9TyMWacp6VdYSnKvuvmD8ypDF",
      "include_colab_link": true
    },
    "kernelspec": {
      "name": "python3",
      "display_name": "Python 3"
    },
    "language_info": {
      "name": "python"
    }
  },
  "cells": [
    {
      "cell_type": "markdown",
      "metadata": {
        "id": "view-in-github",
        "colab_type": "text"
      },
      "source": [
        "<a href=\"https://colab.research.google.com/github/siddhi1820/demo/blob/main/task4.ipynb\" target=\"_parent\"><img src=\"https://colab.research.google.com/assets/colab-badge.svg\" alt=\"Open In Colab\"/></a>"
      ]
    },
    {
      "cell_type": "code",
      "execution_count": 7,
      "metadata": {
        "colab": {
          "base_uri": "https://localhost:8080/"
        },
        "id": "VtRbWxNQAHJB",
        "outputId": "3c7ed261-a6ef-412b-c409-d6320277e8ba"
      },
      "outputs": [
        {
          "output_type": "stream",
          "name": "stdout",
          "text": [
            "Guru99\n",
            "childClass method2\n"
          ]
        }
      ],
      "source": [
        "# Inheritance in class\n",
        "class myClass():\n",
        "  def method1(self):\n",
        "      print(\"Guru99\")\n",
        "class childClass(myClass):\n",
        "        \n",
        "  def method2(self):\n",
        "        print(\"childClass method2\")     \n",
        "         \n",
        "ob=childClass()\n",
        "ob.method1()\n",
        "ob.method2()\n"
      ]
    },
    {
      "cell_type": "code",
      "source": [
        "#constructor in class\n",
        "class User:\n",
        "    name = \"\"\n",
        "\n",
        "    def __init__(self, name):\n",
        "        self.name = name\n",
        "\n",
        "    def sayHello(self):\n",
        "        print(\"Welcome to Guru99, \" + self.name)\n",
        "\n",
        "User1 = User(\"Alex\")\n",
        "User1.sayHello()"
      ],
      "metadata": {
        "colab": {
          "base_uri": "https://localhost:8080/"
        },
        "id": "SGiwwVZBBTth",
        "outputId": "aad30898-5a10-4183-f0dc-1a7e3ff7c394"
      },
      "execution_count": 8,
      "outputs": [
        {
          "output_type": "stream",
          "name": "stdout",
          "text": [
            "Welcome to Guru99, Alex\n"
          ]
        }
      ]
    },
    {
      "cell_type": "code",
      "source": [
        "#abstraction in python\n",
        "from abc import ABC,abstractmethod\n",
        " \n",
        "class Animal(ABC):\n",
        " \n",
        "    #concrete method\n",
        "    def sleep(self):\n",
        "        print(\"I am going to sleep in a while\")\n",
        " \n",
        "    @abstractmethod\n",
        "    def sound(self):\n",
        "\t     print(\"This function is for defining the sound by any animal\")\n",
        "       \n",
        " \n",
        "class Snake(Animal):\n",
        "    def sound(self):\n",
        "        print(\"I can hiss\")\n",
        " \n",
        "class Dog(Animal):\n",
        "    def sound(self):\n",
        "        print(\"I can bark\")\n",
        " \n",
        "class Lion(Animal):\n",
        "    def sound(self):\n",
        "        print(\"I can roar\")\n",
        "      \n",
        "class Cat(Animal):\n",
        "    def sound(self):\n",
        "        print(\"I can meow\")\n",
        "\n",
        "c = Cat()\n",
        "c.sleep()\n",
        "c.sound()\n",
        " \n",
        "c = Snake()\n",
        "c.sound()\n",
        "\n"
      ],
      "metadata": {
        "colab": {
          "base_uri": "https://localhost:8080/"
        },
        "id": "drr3HoLaBdNB",
        "outputId": "e200d6b9-bb6a-4284-88e7-a89bd185771a"
      },
      "execution_count": 11,
      "outputs": [
        {
          "output_type": "stream",
          "name": "stdout",
          "text": [
            "I am going to sleep in a while\n",
            "I can meow\n",
            "I can hiss\n"
          ]
        }
      ]
    },
    {
      "cell_type": "code",
      "source": [
        "#public acess member and public acess modifier \n",
        "class pub_mod:\n",
        "    # constructor\n",
        "    def __init__(self, name, age):\n",
        "        self.name = name;\n",
        "        self.age = age;\n",
        " \n",
        "    def Age(self): \n",
        "        # accessing public data member \n",
        "        print(\"Age: \", self.age)\n",
        "# creating object \n",
        "obj = pub_mod(\"Jason\", 35);\n",
        "# accessing public data member \n",
        "print(\"Name: \", obj.name)  \n",
        "# calling public member function of the class \n",
        "obj.Age()"
      ],
      "metadata": {
        "colab": {
          "base_uri": "https://localhost:8080/"
        },
        "id": "LGhT293gDcqS",
        "outputId": "eb7be735-871b-4fa3-a7b7-81468e26ccd0"
      },
      "execution_count": 13,
      "outputs": [
        {
          "output_type": "stream",
          "name": "stdout",
          "text": [
            "Name:  Jason\n",
            "Age:  35\n"
          ]
        }
      ]
    },
    {
      "cell_type": "code",
      "source": [
        "#private acess member and private acess modifier\n",
        "class Rectangle:\n",
        "  __len = 0 #private variable\n",
        "  __breadth = 0#private variable\n",
        "  def __init__(self): \n",
        "    #constructor\n",
        "    self.__len = 5\n",
        "    self.__breadth = 3\n",
        "    #printing values of the private variable within the class\n",
        "    print(self.__len)\n",
        "    print(self.__breadth)\n",
        " \n",
        "rect = Rectangle() #object created \n",
        "#printing values of the private variable outside the class \n",
        "print(rect.len)\n",
        "print(rect.breadth)\n"
      ],
      "metadata": {
        "colab": {
          "base_uri": "https://localhost:8080/",
          "height": 252
        },
        "id": "ys51IhoiEHI5",
        "outputId": "61c0979a-f412-40f2-eaf6-b5f04b2721ff"
      },
      "execution_count": 14,
      "outputs": [
        {
          "output_type": "stream",
          "name": "stdout",
          "text": [
            "5\n",
            "3\n"
          ]
        },
        {
          "output_type": "error",
          "ename": "AttributeError",
          "evalue": "ignored",
          "traceback": [
            "\u001b[0;31m---------------------------------------------------------------------------\u001b[0m",
            "\u001b[0;31mAttributeError\u001b[0m                            Traceback (most recent call last)",
            "\u001b[0;32m<ipython-input-14-676b5e42336c>\u001b[0m in \u001b[0;36m<module>\u001b[0;34m()\u001b[0m\n\u001b[1;32m     13\u001b[0m \u001b[0mrect\u001b[0m \u001b[0;34m=\u001b[0m \u001b[0mRectangle\u001b[0m\u001b[0;34m(\u001b[0m\u001b[0;34m)\u001b[0m \u001b[0;31m#object created\u001b[0m\u001b[0;34m\u001b[0m\u001b[0;34m\u001b[0m\u001b[0m\n\u001b[1;32m     14\u001b[0m \u001b[0;31m#printing values of the private variable outside the class\u001b[0m\u001b[0;34m\u001b[0m\u001b[0;34m\u001b[0m\u001b[0;34m\u001b[0m\u001b[0m\n\u001b[0;32m---> 15\u001b[0;31m \u001b[0mprint\u001b[0m\u001b[0;34m(\u001b[0m\u001b[0mrect\u001b[0m\u001b[0;34m.\u001b[0m\u001b[0mlen\u001b[0m\u001b[0;34m)\u001b[0m\u001b[0;34m\u001b[0m\u001b[0;34m\u001b[0m\u001b[0m\n\u001b[0m\u001b[1;32m     16\u001b[0m \u001b[0mprint\u001b[0m\u001b[0;34m(\u001b[0m\u001b[0mrect\u001b[0m\u001b[0;34m.\u001b[0m\u001b[0mbreadth\u001b[0m\u001b[0;34m)\u001b[0m\u001b[0;34m\u001b[0m\u001b[0;34m\u001b[0m\u001b[0m\n",
            "\u001b[0;31mAttributeError\u001b[0m: 'Rectangle' object has no attribute 'len'"
          ]
        }
      ]
    }
  ]
}