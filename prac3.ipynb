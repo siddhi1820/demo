{
  "nbformat": 4,
  "nbformat_minor": 0,
  "metadata": {
    "colab": {
      "name": "prac3.ipynb",
      "provenance": [],
      "collapsed_sections": [],
      "authorship_tag": "ABX9TyPbehgtQ/qch1WWw8KzFkf/",
      "include_colab_link": true
    },
    "kernelspec": {
      "name": "python3",
      "display_name": "Python 3"
    },
    "language_info": {
      "name": "python"
    }
  },
  "cells": [
    {
      "cell_type": "markdown",
      "metadata": {
        "id": "view-in-github",
        "colab_type": "text"
      },
      "source": [
        "<a href=\"https://colab.research.google.com/github/siddhi1820/demo/blob/main/prac3.ipynb\" target=\"_parent\"><img src=\"https://colab.research.google.com/assets/colab-badge.svg\" alt=\"Open In Colab\"/></a>"
      ]
    },
    {
      "cell_type": "code",
      "execution_count": null,
      "metadata": {
        "colab": {
          "base_uri": "https://localhost:8080/"
        },
        "id": "UyE4FoJiHTUm",
        "outputId": "9c208a28-14a3-4878-c7a7-2446e8470cdd"
      },
      "outputs": [
        {
          "name": "stdout",
          "output_type": "stream",
          "text": [
            "Enter shared Prime(n):11\n"
          ]
        }
      ],
      "source": [
        "#Diffie Hellman Key Exchange Alogorithm\n",
        "# Begin\n",
        "sharedPrime = int(input(\"Enter shared Prime(n):\"))"
      ]
    },
    {
      "cell_type": "code",
      "source": [
        "sharedBase = int(input(\"Enter shared Base(g):\"))"
      ],
      "metadata": {
        "colab": {
          "base_uri": "https://localhost:8080/"
        },
        "id": "zwCDDYS7QiZk",
        "outputId": "c7e471f3-2965-40c1-b733-25f82cb8d828"
      },
      "execution_count": null,
      "outputs": [
        {
          "name": "stdout",
          "output_type": "stream",
          "text": [
            "Enter shared Base(g):7\n"
          ]
        }
      ]
    },
    {
      "cell_type": "code",
      "source": [
        "aliceSecret = int(input(\"Enter Alice Secret Key(x):\"))"
      ],
      "metadata": {
        "colab": {
          "base_uri": "https://localhost:8080/"
        },
        "id": "1_5R417wQuld",
        "outputId": "a71aa86a-3f7c-4d88-fe19-929a79498b55"
      },
      "execution_count": null,
      "outputs": [
        {
          "name": "stdout",
          "output_type": "stream",
          "text": [
            "Enter Alice Secret Key(x):3\n"
          ]
        }
      ]
    },
    {
      "cell_type": "code",
      "source": [
        "bobSecret = int(input(\"Enter Bob Secret Key(y):\"))"
      ],
      "metadata": {
        "colab": {
          "base_uri": "https://localhost:8080/"
        },
        "id": "J0s0RdelQyyX",
        "outputId": "ed8724a0-959a-4b1f-cf12-84ff9346b059"
      },
      "execution_count": null,
      "outputs": [
        {
          "name": "stdout",
          "output_type": "stream",
          "text": [
            "Enter Bob Secret Key(y):6\n"
          ]
        }
      ]
    },
    {
      "cell_type": "code",
      "source": [
        "print( \"Publicly Shared Variables:\")\n",
        "print( \"    Publicly Shared Prime: \" , sharedPrime )\n",
        "print( \"    Publicly Shared Base:  \" , sharedBase )"
      ],
      "metadata": {
        "colab": {
          "base_uri": "https://localhost:8080/"
        },
        "id": "YO4AkJFzQ1-e",
        "outputId": "cdcc4577-b506-4144-ef6d-60ec48756c90"
      },
      "execution_count": null,
      "outputs": [
        {
          "output_type": "stream",
          "name": "stdout",
          "text": [
            "Publicly Shared Variables:\n",
            "    Publicly Shared Prime:  11\n",
            "    Publicly Shared Base:   7\n"
          ]
        }
      ]
    },
    {
      "cell_type": "code",
      "source": [
        "# Alice Sends Bob A = g^x mod n\n",
        "A = (sharedBase**aliceSecret) % sharedPrime\n",
        "print( \"\\n  Alice Sends(A) Over Public Chanel: \" , A )"
      ],
      "metadata": {
        "colab": {
          "base_uri": "https://localhost:8080/"
        },
        "id": "WPD0Ec4vQ41n",
        "outputId": "453a489f-6a3e-4514-a9fd-64188be75a06"
      },
      "execution_count": null,
      "outputs": [
        {
          "output_type": "stream",
          "name": "stdout",
          "text": [
            "\n",
            "  Alice Sends(A) Over Public Chanel:  2\n"
          ]
        }
      ]
    },
    {
      "cell_type": "code",
      "source": [
        "# Bob Sends Alice B = g^y mod n\n",
        "B = (sharedBase ** bobSecret) % sharedPrime\n",
        "print(\"Bob Sends(B) Over Public Chanel: \", B )\n",
        " "
      ],
      "metadata": {
        "colab": {
          "base_uri": "https://localhost:8080/"
        },
        "id": "SOrc6YF8Q6D1",
        "outputId": "fbca9da6-6503-44b5-e7d1-b77c37d3b6d4"
      },
      "execution_count": null,
      "outputs": [
        {
          "output_type": "stream",
          "name": "stdout",
          "text": [
            "Bob Sends(B) Over Public Chanel:  4\n"
          ]
        }
      ]
    },
    {
      "cell_type": "code",
      "source": [
        "\n",
        "print( \"\\n------------\\n\" )\n",
        "print( \"Privately Calculated Shared Secret:\" )"
      ],
      "metadata": {
        "colab": {
          "base_uri": "https://localhost:8080/"
        },
        "id": "SAtFKGFtQ9nW",
        "outputId": "fffc235c-5959-4cfd-bef0-e91e82f15489"
      },
      "execution_count": null,
      "outputs": [
        {
          "output_type": "stream",
          "name": "stdout",
          "text": [
            "\n",
            "------------\n",
            "\n",
            "Privately Calculated Shared Secret:\n"
          ]
        }
      ]
    },
    {
      "cell_type": "code",
      "source": [
        "\n",
        "# Alice Computes Shared Secret: K1 = B^x mod n\n",
        "aliceSharedSecret = (B ** aliceSecret) % sharedPrime\n",
        "print( \"    Alice Shared Secret: \", aliceSharedSecret )"
      ],
      "metadata": {
        "colab": {
          "base_uri": "https://localhost:8080/"
        },
        "id": "Jwbuxe1oREnR",
        "outputId": "df4d718b-f245-476a-eb9e-6794886c86e7"
      },
      "execution_count": null,
      "outputs": [
        {
          "output_type": "stream",
          "name": "stdout",
          "text": [
            "    Alice Shared Secret:  9\n"
          ]
        }
      ]
    },
    {
      "cell_type": "code",
      "source": [
        " \n",
        "# Bob Computes Shared Secret: K2 = A^y mod n\n",
        "bobSharedSecret = (A**bobSecret) % sharedPrime\n",
        "print( \"    Bob Shared Secret: \", bobSharedSecret )\n"
      ],
      "metadata": {
        "colab": {
          "base_uri": "https://localhost:8080/"
        },
        "id": "BJd3a0ECRGs1",
        "outputId": "9dc7cbf0-02e0-440c-9a44-f48b921053cd"
      },
      "execution_count": null,
      "outputs": [
        {
          "output_type": "stream",
          "name": "stdout",
          "text": [
            "    Bob Shared Secret:  9\n"
          ]
        }
      ]
    }
  ]
}