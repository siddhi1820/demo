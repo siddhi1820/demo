{
  "nbformat": 4,
  "nbformat_minor": 0,
  "metadata": {
    "colab": {
      "name": "task2.ipynb",
      "provenance": [],
      "authorship_tag": "ABX9TyMjH3+NQaanmnKUHTdc9+Aj",
      "include_colab_link": true
    },
    "kernelspec": {
      "name": "python3",
      "display_name": "Python 3"
    },
    "language_info": {
      "name": "python"
    }
  },
  "cells": [
    {
      "cell_type": "markdown",
      "metadata": {
        "id": "view-in-github",
        "colab_type": "text"
      },
      "source": [
        "<a href=\"https://colab.research.google.com/github/siddhi1820/demo/blob/main/task2.ipynb\" target=\"_parent\"><img src=\"https://colab.research.google.com/assets/colab-badge.svg\" alt=\"Open In Colab\"/></a>"
      ]
    },
    {
      "cell_type": "code",
      "execution_count": null,
      "metadata": {
        "id": "oLfGMJ_-ghT_"
      },
      "outputs": [],
      "source": [
        "#find unique number in array\n",
        "\n",
        "def findUnique(arr):\n",
        "    out = 0\n",
        "    for i in arr:\n",
        "        out = i ^ out\n",
        "        return out\n",
        "\n",
        "print(findUnique([2, 4, 3, 3, 2, 5, 5]))"
      ]
    },
    {
      "cell_type": "code",
      "source": [
        "\n",
        "#Find duplicate array\n",
        "\n",
        "def findDup(liArr):\n",
        "    liArr.sort()\n",
        "    liDuplicate = []\n",
        "    for i in range(0, len(liArr) - 1):\n",
        "        if liArr[i] == liArr[i + 1]:\n",
        "            liDuplicate.append(liArr[i])\n",
        "\n",
        "    return liDuplicate\n",
        "\n",
        "\n",
        "print(findDup([2, 3, 1, 0, 2, 5, 3]))"
      ],
      "metadata": {
        "id": "KDRxH8dGgoux"
      },
      "execution_count": null,
      "outputs": []
    },
    {
      "cell_type": "code",
      "source": [
        "#maximum subarray sum\n",
        "\n",
        "def sub_Array_Sum(lst):\n",
        "    max_now = 0\n",
        "    max_end = 0\n",
        "    for i in range(len(lst)):\n",
        "        max_now = max_now + lst[i]\n",
        "        if max_now < 0:\n",
        "            max_now = 0\n",
        "        elif max_end < max_now:\n",
        "            max_end = max_now\n",
        "    return max_end\n",
        "print(\"Enter values for array:\")\n",
        "l = list(map(int, input().split()))\n",
        "print(\"Maximum Sum Subarray: \", sub_Array_Sum(l))"
      ],
      "metadata": {
        "id": "k-IZvO6IguL4"
      },
      "execution_count": null,
      "outputs": []
    },
    {
      "cell_type": "code",
      "source": [
        "'''QUESTION:-4digit otp input will like 7564168 separate odd place integer make the square of this digits\n",
        " and print 1st four number as a otp output-2516'''\n",
        "\n",
        "num=input()\n",
        "square=''\n",
        "for i in range(len(num)):\n",
        "    if(i%2!=0):\n",
        "        square=square+str(int((num)[i])**2)\n",
        "print(square[:4])"
      ],
      "metadata": {
        "id": "5wp-oMAkgyY0"
      },
      "execution_count": null,
      "outputs": []
    },
    {
      "cell_type": "code",
      "source": [
        "#Remove vowels from string\n",
        "\n",
        "str1=input()\n",
        "val=''\n",
        "vowel=['A','E','I','O','U','a','e','i','o','u']\n",
        "for i in str1:\n",
        "    if i not in vowel:\n",
        "        val=val+i\n",
        "print(val)\n"
      ],
      "metadata": {
        "id": "uN0dYR84g3lw"
      },
      "execution_count": null,
      "outputs": []
    }
  ]
}