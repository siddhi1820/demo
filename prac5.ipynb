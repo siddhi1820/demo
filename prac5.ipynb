{
  "nbformat": 4,
  "nbformat_minor": 0,
  "metadata": {
    "colab": {
      "name": "prac5.ipynb",
      "provenance": [],
      "collapsed_sections": [],
      "authorship_tag": "ABX9TyNPkddwk0rFCk7c5vcfzxam",
      "include_colab_link": true
    },
    "kernelspec": {
      "name": "python3",
      "display_name": "Python 3"
    },
    "language_info": {
      "name": "python"
    }
  },
  "cells": [
    {
      "cell_type": "markdown",
      "metadata": {
        "id": "view-in-github",
        "colab_type": "text"
      },
      "source": [
        "<a href=\"https://colab.research.google.com/github/siddhi1820/demo/blob/main/prac5.ipynb\" target=\"_parent\"><img src=\"https://colab.research.google.com/assets/colab-badge.svg\" alt=\"Open In Colab\"/></a>"
      ]
    },
    {
      "cell_type": "code",
      "execution_count": null,
      "metadata": {
        "colab": {
          "base_uri": "https://localhost:8080/"
        },
        "id": "iDHh-kE4DOMX",
        "outputId": "fd248e56-489c-436f-969f-e086f30edeb1"
      },
      "outputs": [
        {
          "metadata": {
            "tags": null
          },
          "name": "stdout",
          "output_type": "stream",
          "text": [
            "Collecting pycryptodome\n",
            "  Downloading pycryptodome-3.14.1-cp35-abi3-manylinux2010_x86_64.whl (2.0 MB)\n",
            "\u001b[K     |████████████████████████████████| 2.0 MB 7.5 MB/s \n",
            "\u001b[?25hInstalling collected packages: pycryptodome\n",
            "Successfully installed pycryptodome-3.14.1\n"
          ]
        }
      ],
      "source": [
        "pip install pycryptodome"
      ]
    },
    {
      "cell_type": "code",
      "source": [
        "from Crypto.Cipher import AES"
      ],
      "metadata": {
        "id": "K_086X7nDTvz"
      },
      "execution_count": null,
      "outputs": []
    },
    {
      "cell_type": "code",
      "source": [
        "import binascii, os"
      ],
      "metadata": {
        "id": "xWaXVSRPDcx0"
      },
      "execution_count": null,
      "outputs": []
    },
    {
      "cell_type": "code",
      "source": [
        "def encrypt_AES_GCM(msg, secretKey):\n",
        "    aesCipher=AES.new(secretKey,AES.MODE_GCM)\n",
        "    ciphertext, authTag = aesCipher.encrypt_and_digest(msg)\n",
        "    return (ciphertext, aesCipher.nonce, authTag)"
      ],
      "metadata": {
        "id": "vwZVOM0jDfTR"
      },
      "execution_count": null,
      "outputs": []
    },
    {
      "cell_type": "code",
      "source": [
        "def decrypt_AES_GCM(encryptedMsg, secretKey):\n",
        "   (ciphertext, nonce, authTag) = encryptedMsg\n",
        "   aesCipher = AES.new(secretKey, AES.MODE_GCM, nonce)\n",
        "   plaintext = aesCipher.decrypt_and_verify(ciphertext, authTag)\n",
        "   return plaintext"
      ],
      "metadata": {
        "id": "Ap4B1XlREDZA"
      },
      "execution_count": null,
      "outputs": []
    },
    {
      "cell_type": "code",
      "source": [
        "secretKey = os.urandom(32) # 256-bit random encryption key\n",
        "print(\"Encryption key:\", binascii.hexlify(secretKey))"
      ],
      "metadata": {
        "colab": {
          "base_uri": "https://localhost:8080/"
        },
        "id": "hcP6_vb0EKZf",
        "outputId": "fcd9feae-deb8-485a-9d1a-29e2be83c2a0"
      },
      "execution_count": null,
      "outputs": [
        {
          "output_type": "stream",
          "name": "stdout",
          "text": [
            "Encryption key: b'a7ffce5d39121fe71ab4652ef2f1cf83573edb1e318ba59d3babfb86273573c2'\n"
          ]
        }
      ]
    },
    {
      "cell_type": "code",
      "source": [
        "msg = b'Hello, Let us study AES algorithm'\n",
        "encryptedMsg = encrypt_AES_GCM(msg, secretKey)\n",
        "print(\"encryptedMsg:\", {\n",
        "'ciphertext': binascii.hexlify(encryptedMsg[0]),\n",
        "'aesIV': binascii.hexlify(encryptedMsg[1]),\n",
        "'authTag': binascii.hexlify(encryptedMsg[2])\n",
        "})"
      ],
      "metadata": {
        "colab": {
          "base_uri": "https://localhost:8080/"
        },
        "id": "QSQIggkYEPpm",
        "outputId": "92774450-3dff-4ed2-9dcc-31ab130dbb77"
      },
      "execution_count": null,
      "outputs": [
        {
          "output_type": "stream",
          "name": "stdout",
          "text": [
            "encryptedMsg: {'ciphertext': b'212e13822d9761c73a38d3755d6032f33000759478061dfd295439b702baf38ada', 'aesIV': b'39856a5a195599270d6f79d13f959525', 'authTag': b'1f375f75e44c8e30028de32eb6e2b39a'}\n"
          ]
        }
      ]
    },
    {
      "cell_type": "code",
      "source": [
        "decryptedMsg = decrypt_AES_GCM(encryptedMsg, secretKey)\n",
        "print(\"decryptedMsg\", decryptedMsg)"
      ],
      "metadata": {
        "colab": {
          "base_uri": "https://localhost:8080/"
        },
        "id": "yucxHP26EUyS",
        "outputId": "5fabcd99-e92f-4fbf-ad03-90e9b6b22b09"
      },
      "execution_count": null,
      "outputs": [
        {
          "output_type": "stream",
          "name": "stdout",
          "text": [
            "decryptedMsg b'Hello, Let us study AES algorithm'\n"
          ]
        }
      ]
    }
  ]
}